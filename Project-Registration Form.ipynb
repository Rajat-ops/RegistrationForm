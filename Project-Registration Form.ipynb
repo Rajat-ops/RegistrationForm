{
 "cells": [
  {
   "cell_type": "code",
   "execution_count": 1,
   "metadata": {},
   "outputs": [],
   "source": [
    "from tkinter import *"
   ]
  },
  {
   "cell_type": "code",
   "execution_count": 2,
   "metadata": {},
   "outputs": [
    {
     "data": {
      "text/plain": [
       "''"
      ]
     },
     "execution_count": 2,
     "metadata": {},
     "output_type": "execute_result"
    }
   ],
   "source": [
    "root = Tk()\n",
    "root.geometry(\"500x500\")\n",
    "root.title(\"Registration Form\")\n",
    "\n"
   ]
  },
  {
   "cell_type": "code",
   "execution_count": 3,
   "metadata": {},
   "outputs": [],
   "source": [
    "label_0 = Label(root, text='Register Yourself!!', width=20, font=(\"bold\", 20))\n",
    "label_0.place(x=90, y=53)"
   ]
  },
  {
   "cell_type": "code",
   "execution_count": 4,
   "metadata": {},
   "outputs": [],
   "source": [
    "label_1 = Label(root, text='Full Name', width =20, font=(\"bold\",10))\n",
    "label_1.place(x=80, y=130)"
   ]
  },
  {
   "cell_type": "code",
   "execution_count": 5,
   "metadata": {},
   "outputs": [],
   "source": [
    "entry_1 = Entry(root)\n",
    "entry_1.place(x=240, y=130)"
   ]
  },
  {
   "cell_type": "code",
   "execution_count": 6,
   "metadata": {},
   "outputs": [],
   "source": [
    "label_2 = Label(root, text = 'Email', width=20, font=(\"bold\",10))\n",
    "label_2.place(x=68, y=180)\n",
    "\n",
    "entry_2 = Entry(root)\n",
    "entry_2.place(x=240, y=180)\n",
    "\n",
    "label_3 = Label(root, text='Gender', width=20, font=(\"bold\", 10))\n",
    "label_3.place(x = 70, y=230)\n",
    "\n",
    "var = IntVar()\n",
    "Radiobutton(root, text='Male', padx=5, variable=var, value=1).place(x=235, y=230)\n",
    "Radiobutton(root, text='Female', padx=20, variable=var, value=2).place(x=290, y=230)"
   ]
  },
  {
   "cell_type": "code",
   "execution_count": 7,
   "metadata": {},
   "outputs": [],
   "source": [
    "label_4 = Label(root, text='Country', width=20, font=(\"bold\",10))\n",
    "label_4.place(x=70, y=280)\n",
    "\n",
    "list1 = ['India','Canada','USA','UK','UAE']\n",
    "c = StringVar()\n",
    "\n",
    "droplist = OptionMenu(root, c, *list1)\n",
    "\n",
    "droplist.config(width=15)\n",
    "\n",
    "c.set(\"Select Your Country\")\n",
    "\n",
    "droplist.place(x=240, y=280)\n",
    "\n",
    "label_5  =Label(root, text=\"Programming\", width=20, font=(\"bold\",10))\n",
    "label_5.place(x=85, y=330)\n",
    "\n",
    "var1 = IntVar()\n",
    "\n",
    "Checkbutton(root, text='java',variable=var1).place(x=235, y=330)\n",
    "\n",
    "var2 = IntVar()\n",
    "\n",
    "Checkbutton(root, text='python', variable=var2).place(x=290,y=330)\n",
    "\n",
    "Button(root, text='Submit', width=20, bg=\"brown\", fg='white').place(x=180, y=380)\n",
    "\n",
    "root.mainloop()"
   ]
  },
  {
   "cell_type": "code",
   "execution_count": null,
   "metadata": {},
   "outputs": [],
   "source": []
  }
 ],
 "metadata": {
  "kernelspec": {
   "display_name": "Python 3",
   "language": "python",
   "name": "python3"
  },
  "language_info": {
   "codemirror_mode": {
    "name": "ipython",
    "version": 3
   },
   "file_extension": ".py",
   "mimetype": "text/x-python",
   "name": "python",
   "nbconvert_exporter": "python",
   "pygments_lexer": "ipython3",
   "version": "3.7.4"
  }
 },
 "nbformat": 4,
 "nbformat_minor": 2
}
